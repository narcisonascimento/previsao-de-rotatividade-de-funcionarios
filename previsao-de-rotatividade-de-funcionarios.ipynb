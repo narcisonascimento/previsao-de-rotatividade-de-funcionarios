{
 "cells": [
  {
   "cell_type": "markdown",
   "id": "6a21ed8b",
   "metadata": {
    "papermill": {
     "duration": 0.007321,
     "end_time": "2023-02-17T18:04:19.495505",
     "exception": false,
     "start_time": "2023-02-17T18:04:19.488184",
     "status": "completed"
    },
    "tags": []
   },
   "source": [
    "# Previsão de Rotatividade de Funcionários\n",
    "\n",
    "Dataset: [Human Resources Data Set](https://www.kaggle.com/datasets/rhuebner/human-resources-data-set?select=HRDataset_v14.csv) <br>\n",
    "Dicionário dos Dados: [RPubs.com](https://rpubs.com/rhuebner/hrd_cb_v14)"
   ]
  },
  {
   "cell_type": "code",
   "execution_count": 1,
   "id": "e72771de",
   "metadata": {
    "execution": {
     "iopub.execute_input": "2023-02-17T18:04:19.511373Z",
     "iopub.status.busy": "2023-02-17T18:04:19.509970Z",
     "iopub.status.idle": "2023-02-17T18:04:19.523945Z",
     "shell.execute_reply": "2023-02-17T18:04:19.522862Z"
    },
    "papermill": {
     "duration": 0.024869,
     "end_time": "2023-02-17T18:04:19.527028",
     "exception": false,
     "start_time": "2023-02-17T18:04:19.502159",
     "status": "completed"
    },
    "tags": []
   },
   "outputs": [],
   "source": [
    "# Importandoimport\n",
    "import numpy as np # linear algebra\n",
    "import pandas as pd # data processing, CSV file I/O (e.g. pd.read_csv)\n",
    "import sys"
   ]
  },
  {
   "cell_type": "code",
   "execution_count": 2,
   "id": "a334b5a5",
   "metadata": {
    "execution": {
     "iopub.execute_input": "2023-02-17T18:04:19.541693Z",
     "iopub.status.busy": "2023-02-17T18:04:19.540907Z",
     "iopub.status.idle": "2023-02-17T18:04:19.561519Z",
     "shell.execute_reply": "2023-02-17T18:04:19.560268Z"
    },
    "papermill": {
     "duration": 0.031175,
     "end_time": "2023-02-17T18:04:19.564382",
     "exception": false,
     "start_time": "2023-02-17T18:04:19.533207",
     "status": "completed"
    },
    "tags": []
   },
   "outputs": [
    {
     "name": "stdout",
     "output_type": "stream",
     "text": [
      "/kaggle/input/human-resources-data-set/HRDataset_v14.csv\n"
     ]
    }
   ],
   "source": [
    "# Input data files are available in the read-only \"../input/\" directory\n",
    "# For example, running this (by clicking run or pressing Shift+Enter) will list all files under the input directory\n",
    "\n",
    "import os\n",
    "for dirname, _, filenames in os.walk('/kaggle/input'):\n",
    "    for filename in filenames:\n",
    "        print(os.path.join(dirname, filename))\n",
    "\n",
    "# You can write up to 20GB to the current directory (/kaggle/working/) that gets preserved as output when you create a version using \"Save & Run All\" \n",
    "# You can also write temporary files to /kaggle/temp/, but they won't be saved outside of the current session\n",
    "\n",
    "pd.set_option('display.max_columns', 500)"
   ]
  },
  {
   "cell_type": "markdown",
   "id": "c46680a1",
   "metadata": {
    "papermill": {
     "duration": 0.005766,
     "end_time": "2023-02-17T18:04:19.576016",
     "exception": false,
     "start_time": "2023-02-17T18:04:19.570250",
     "status": "completed"
    },
    "tags": []
   },
   "source": [
    "### Importando os dados e visualizando as informações"
   ]
  },
  {
   "cell_type": "code",
   "execution_count": 3,
   "id": "b7675d18",
   "metadata": {
    "execution": {
     "iopub.execute_input": "2023-02-17T18:04:19.591045Z",
     "iopub.status.busy": "2023-02-17T18:04:19.590026Z",
     "iopub.status.idle": "2023-02-17T18:04:19.653238Z",
     "shell.execute_reply": "2023-02-17T18:04:19.651683Z"
    },
    "papermill": {
     "duration": 0.073625,
     "end_time": "2023-02-17T18:04:19.655701",
     "exception": false,
     "start_time": "2023-02-17T18:04:19.582076",
     "status": "completed"
    },
    "tags": []
   },
   "outputs": [
    {
     "name": "stdout",
     "output_type": "stream",
     "text": [
      "Nomes colunas:\n",
      "['Employee_Name', 'EmpID', 'MarriedID', 'MaritalStatusID', 'GenderID', 'EmpStatusID', 'DeptID', 'PerfScoreID', 'FromDiversityJobFairID', 'Salary', 'Termd', 'PositionID', 'Position', 'State', 'Zip', 'DOB', 'Sex', 'MaritalDesc', 'CitizenDesc', 'HispanicLatino', 'RaceDesc', 'DateofHire', 'DateofTermination', 'TermReason', 'EmploymentStatus', 'Department', 'ManagerName', 'ManagerID', 'RecruitmentSource', 'PerformanceScore', 'EngagementSurvey', 'EmpSatisfaction', 'SpecialProjectsCount', 'LastPerformanceReview_Date', 'DaysLateLast30', 'Absences']\n",
      "\n",
      "Amostra do dataset:\n"
     ]
    },
    {
     "data": {
      "text/html": [
       "<div>\n",
       "<style scoped>\n",
       "    .dataframe tbody tr th:only-of-type {\n",
       "        vertical-align: middle;\n",
       "    }\n",
       "\n",
       "    .dataframe tbody tr th {\n",
       "        vertical-align: top;\n",
       "    }\n",
       "\n",
       "    .dataframe thead th {\n",
       "        text-align: right;\n",
       "    }\n",
       "</style>\n",
       "<table border=\"1\" class=\"dataframe\">\n",
       "  <thead>\n",
       "    <tr style=\"text-align: right;\">\n",
       "      <th></th>\n",
       "      <th>Employee_Name</th>\n",
       "      <th>EmpID</th>\n",
       "      <th>MarriedID</th>\n",
       "      <th>MaritalStatusID</th>\n",
       "      <th>GenderID</th>\n",
       "      <th>EmpStatusID</th>\n",
       "      <th>DeptID</th>\n",
       "      <th>PerfScoreID</th>\n",
       "      <th>FromDiversityJobFairID</th>\n",
       "      <th>Salary</th>\n",
       "      <th>Termd</th>\n",
       "      <th>PositionID</th>\n",
       "      <th>Position</th>\n",
       "      <th>State</th>\n",
       "      <th>Zip</th>\n",
       "      <th>DOB</th>\n",
       "      <th>Sex</th>\n",
       "      <th>MaritalDesc</th>\n",
       "      <th>CitizenDesc</th>\n",
       "      <th>HispanicLatino</th>\n",
       "      <th>RaceDesc</th>\n",
       "      <th>DateofHire</th>\n",
       "      <th>DateofTermination</th>\n",
       "      <th>TermReason</th>\n",
       "      <th>EmploymentStatus</th>\n",
       "      <th>Department</th>\n",
       "      <th>ManagerName</th>\n",
       "      <th>ManagerID</th>\n",
       "      <th>RecruitmentSource</th>\n",
       "      <th>PerformanceScore</th>\n",
       "      <th>EngagementSurvey</th>\n",
       "      <th>EmpSatisfaction</th>\n",
       "      <th>SpecialProjectsCount</th>\n",
       "      <th>LastPerformanceReview_Date</th>\n",
       "      <th>DaysLateLast30</th>\n",
       "      <th>Absences</th>\n",
       "    </tr>\n",
       "  </thead>\n",
       "  <tbody>\n",
       "    <tr>\n",
       "      <th>0</th>\n",
       "      <td>Adinolfi, Wilson  K</td>\n",
       "      <td>10026</td>\n",
       "      <td>0</td>\n",
       "      <td>0</td>\n",
       "      <td>1</td>\n",
       "      <td>1</td>\n",
       "      <td>5</td>\n",
       "      <td>4</td>\n",
       "      <td>0</td>\n",
       "      <td>62506</td>\n",
       "      <td>0</td>\n",
       "      <td>19</td>\n",
       "      <td>Production Technician I</td>\n",
       "      <td>MA</td>\n",
       "      <td>1960</td>\n",
       "      <td>07/10/83</td>\n",
       "      <td>M</td>\n",
       "      <td>Single</td>\n",
       "      <td>US Citizen</td>\n",
       "      <td>No</td>\n",
       "      <td>White</td>\n",
       "      <td>7/5/2011</td>\n",
       "      <td>NaN</td>\n",
       "      <td>N/A-StillEmployed</td>\n",
       "      <td>Active</td>\n",
       "      <td>Production</td>\n",
       "      <td>Michael Albert</td>\n",
       "      <td>22.0</td>\n",
       "      <td>LinkedIn</td>\n",
       "      <td>Exceeds</td>\n",
       "      <td>4.60</td>\n",
       "      <td>5</td>\n",
       "      <td>0</td>\n",
       "      <td>1/17/2019</td>\n",
       "      <td>0</td>\n",
       "      <td>1</td>\n",
       "    </tr>\n",
       "    <tr>\n",
       "      <th>1</th>\n",
       "      <td>Ait Sidi, Karthikeyan</td>\n",
       "      <td>10084</td>\n",
       "      <td>1</td>\n",
       "      <td>1</td>\n",
       "      <td>1</td>\n",
       "      <td>5</td>\n",
       "      <td>3</td>\n",
       "      <td>3</td>\n",
       "      <td>0</td>\n",
       "      <td>104437</td>\n",
       "      <td>1</td>\n",
       "      <td>27</td>\n",
       "      <td>Sr. DBA</td>\n",
       "      <td>MA</td>\n",
       "      <td>2148</td>\n",
       "      <td>05/05/75</td>\n",
       "      <td>M</td>\n",
       "      <td>Married</td>\n",
       "      <td>US Citizen</td>\n",
       "      <td>No</td>\n",
       "      <td>White</td>\n",
       "      <td>3/30/2015</td>\n",
       "      <td>6/16/2016</td>\n",
       "      <td>career change</td>\n",
       "      <td>Voluntarily Terminated</td>\n",
       "      <td>IT/IS</td>\n",
       "      <td>Simon Roup</td>\n",
       "      <td>4.0</td>\n",
       "      <td>Indeed</td>\n",
       "      <td>Fully Meets</td>\n",
       "      <td>4.96</td>\n",
       "      <td>3</td>\n",
       "      <td>6</td>\n",
       "      <td>2/24/2016</td>\n",
       "      <td>0</td>\n",
       "      <td>17</td>\n",
       "    </tr>\n",
       "    <tr>\n",
       "      <th>2</th>\n",
       "      <td>Akinkuolie, Sarah</td>\n",
       "      <td>10196</td>\n",
       "      <td>1</td>\n",
       "      <td>1</td>\n",
       "      <td>0</td>\n",
       "      <td>5</td>\n",
       "      <td>5</td>\n",
       "      <td>3</td>\n",
       "      <td>0</td>\n",
       "      <td>64955</td>\n",
       "      <td>1</td>\n",
       "      <td>20</td>\n",
       "      <td>Production Technician II</td>\n",
       "      <td>MA</td>\n",
       "      <td>1810</td>\n",
       "      <td>09/19/88</td>\n",
       "      <td>F</td>\n",
       "      <td>Married</td>\n",
       "      <td>US Citizen</td>\n",
       "      <td>No</td>\n",
       "      <td>White</td>\n",
       "      <td>7/5/2011</td>\n",
       "      <td>9/24/2012</td>\n",
       "      <td>hours</td>\n",
       "      <td>Voluntarily Terminated</td>\n",
       "      <td>Production</td>\n",
       "      <td>Kissy Sullivan</td>\n",
       "      <td>20.0</td>\n",
       "      <td>LinkedIn</td>\n",
       "      <td>Fully Meets</td>\n",
       "      <td>3.02</td>\n",
       "      <td>3</td>\n",
       "      <td>0</td>\n",
       "      <td>5/15/2012</td>\n",
       "      <td>0</td>\n",
       "      <td>3</td>\n",
       "    </tr>\n",
       "    <tr>\n",
       "      <th>3</th>\n",
       "      <td>Alagbe,Trina</td>\n",
       "      <td>10088</td>\n",
       "      <td>1</td>\n",
       "      <td>1</td>\n",
       "      <td>0</td>\n",
       "      <td>1</td>\n",
       "      <td>5</td>\n",
       "      <td>3</td>\n",
       "      <td>0</td>\n",
       "      <td>64991</td>\n",
       "      <td>0</td>\n",
       "      <td>19</td>\n",
       "      <td>Production Technician I</td>\n",
       "      <td>MA</td>\n",
       "      <td>1886</td>\n",
       "      <td>09/27/88</td>\n",
       "      <td>F</td>\n",
       "      <td>Married</td>\n",
       "      <td>US Citizen</td>\n",
       "      <td>No</td>\n",
       "      <td>White</td>\n",
       "      <td>1/7/2008</td>\n",
       "      <td>NaN</td>\n",
       "      <td>N/A-StillEmployed</td>\n",
       "      <td>Active</td>\n",
       "      <td>Production</td>\n",
       "      <td>Elijiah Gray</td>\n",
       "      <td>16.0</td>\n",
       "      <td>Indeed</td>\n",
       "      <td>Fully Meets</td>\n",
       "      <td>4.84</td>\n",
       "      <td>5</td>\n",
       "      <td>0</td>\n",
       "      <td>1/3/2019</td>\n",
       "      <td>0</td>\n",
       "      <td>15</td>\n",
       "    </tr>\n",
       "    <tr>\n",
       "      <th>4</th>\n",
       "      <td>Anderson, Carol</td>\n",
       "      <td>10069</td>\n",
       "      <td>0</td>\n",
       "      <td>2</td>\n",
       "      <td>0</td>\n",
       "      <td>5</td>\n",
       "      <td>5</td>\n",
       "      <td>3</td>\n",
       "      <td>0</td>\n",
       "      <td>50825</td>\n",
       "      <td>1</td>\n",
       "      <td>19</td>\n",
       "      <td>Production Technician I</td>\n",
       "      <td>MA</td>\n",
       "      <td>2169</td>\n",
       "      <td>09/08/89</td>\n",
       "      <td>F</td>\n",
       "      <td>Divorced</td>\n",
       "      <td>US Citizen</td>\n",
       "      <td>No</td>\n",
       "      <td>White</td>\n",
       "      <td>7/11/2011</td>\n",
       "      <td>9/6/2016</td>\n",
       "      <td>return to school</td>\n",
       "      <td>Voluntarily Terminated</td>\n",
       "      <td>Production</td>\n",
       "      <td>Webster Butler</td>\n",
       "      <td>39.0</td>\n",
       "      <td>Google Search</td>\n",
       "      <td>Fully Meets</td>\n",
       "      <td>5.00</td>\n",
       "      <td>4</td>\n",
       "      <td>0</td>\n",
       "      <td>2/1/2016</td>\n",
       "      <td>0</td>\n",
       "      <td>2</td>\n",
       "    </tr>\n",
       "  </tbody>\n",
       "</table>\n",
       "</div>"
      ],
      "text/plain": [
       "              Employee_Name  EmpID  MarriedID  MaritalStatusID  GenderID  \\\n",
       "0       Adinolfi, Wilson  K  10026          0                0         1   \n",
       "1  Ait Sidi, Karthikeyan     10084          1                1         1   \n",
       "2         Akinkuolie, Sarah  10196          1                1         0   \n",
       "3              Alagbe,Trina  10088          1                1         0   \n",
       "4          Anderson, Carol   10069          0                2         0   \n",
       "\n",
       "   EmpStatusID  DeptID  PerfScoreID  FromDiversityJobFairID  Salary  Termd  \\\n",
       "0            1       5            4                       0   62506      0   \n",
       "1            5       3            3                       0  104437      1   \n",
       "2            5       5            3                       0   64955      1   \n",
       "3            1       5            3                       0   64991      0   \n",
       "4            5       5            3                       0   50825      1   \n",
       "\n",
       "   PositionID                  Position State   Zip       DOB Sex MaritalDesc  \\\n",
       "0          19   Production Technician I    MA  1960  07/10/83  M       Single   \n",
       "1          27                   Sr. DBA    MA  2148  05/05/75  M      Married   \n",
       "2          20  Production Technician II    MA  1810  09/19/88   F     Married   \n",
       "3          19   Production Technician I    MA  1886  09/27/88   F     Married   \n",
       "4          19   Production Technician I    MA  2169  09/08/89   F    Divorced   \n",
       "\n",
       "  CitizenDesc HispanicLatino RaceDesc DateofHire DateofTermination  \\\n",
       "0  US Citizen             No    White   7/5/2011               NaN   \n",
       "1  US Citizen             No    White  3/30/2015         6/16/2016   \n",
       "2  US Citizen             No    White   7/5/2011         9/24/2012   \n",
       "3  US Citizen             No    White   1/7/2008               NaN   \n",
       "4  US Citizen             No    White  7/11/2011          9/6/2016   \n",
       "\n",
       "          TermReason        EmploymentStatus         Department  \\\n",
       "0  N/A-StillEmployed                  Active  Production          \n",
       "1      career change  Voluntarily Terminated              IT/IS   \n",
       "2              hours  Voluntarily Terminated  Production          \n",
       "3  N/A-StillEmployed                  Active  Production          \n",
       "4   return to school  Voluntarily Terminated  Production          \n",
       "\n",
       "      ManagerName  ManagerID RecruitmentSource PerformanceScore  \\\n",
       "0  Michael Albert       22.0          LinkedIn          Exceeds   \n",
       "1      Simon Roup        4.0            Indeed      Fully Meets   \n",
       "2  Kissy Sullivan       20.0          LinkedIn      Fully Meets   \n",
       "3    Elijiah Gray       16.0            Indeed      Fully Meets   \n",
       "4  Webster Butler       39.0     Google Search      Fully Meets   \n",
       "\n",
       "   EngagementSurvey  EmpSatisfaction  SpecialProjectsCount  \\\n",
       "0              4.60                5                     0   \n",
       "1              4.96                3                     6   \n",
       "2              3.02                3                     0   \n",
       "3              4.84                5                     0   \n",
       "4              5.00                4                     0   \n",
       "\n",
       "  LastPerformanceReview_Date  DaysLateLast30  Absences  \n",
       "0                  1/17/2019               0         1  \n",
       "1                  2/24/2016               0        17  \n",
       "2                  5/15/2012               0         3  \n",
       "3                   1/3/2019               0        15  \n",
       "4                   2/1/2016               0         2  "
      ]
     },
     "execution_count": 3,
     "metadata": {},
     "output_type": "execute_result"
    }
   ],
   "source": [
    "df = pd.read_csv('/kaggle/input/human-resources-data-set/HRDataset_v14.csv')\n",
    "colunas_nomes = df.columns.tolist()\n",
    "print(\"Nomes colunas:\")\n",
    "print(colunas_nomes)\n",
    "print(\"\\nAmostra do dataset:\")\n",
    "df.head()"
   ]
  },
  {
   "cell_type": "markdown",
   "id": "806bb49c",
   "metadata": {
    "papermill": {
     "duration": 0.006249,
     "end_time": "2023-02-17T18:04:19.668584",
     "exception": false,
     "start_time": "2023-02-17T18:04:19.662335",
     "status": "completed"
    },
    "tags": []
   },
   "source": [
    "### O tipo das colunas pode ser visualizado abaixo"
   ]
  },
  {
   "cell_type": "code",
   "execution_count": 4,
   "id": "c9590474",
   "metadata": {
    "execution": {
     "iopub.execute_input": "2023-02-17T18:04:19.683700Z",
     "iopub.status.busy": "2023-02-17T18:04:19.683214Z",
     "iopub.status.idle": "2023-02-17T18:04:19.692389Z",
     "shell.execute_reply": "2023-02-17T18:04:19.691186Z"
    },
    "papermill": {
     "duration": 0.01948,
     "end_time": "2023-02-17T18:04:19.694607",
     "exception": false,
     "start_time": "2023-02-17T18:04:19.675127",
     "status": "completed"
    },
    "tags": []
   },
   "outputs": [
    {
     "data": {
      "text/plain": [
       "Employee_Name                  object\n",
       "EmpID                           int64\n",
       "MarriedID                       int64\n",
       "MaritalStatusID                 int64\n",
       "GenderID                        int64\n",
       "EmpStatusID                     int64\n",
       "DeptID                          int64\n",
       "PerfScoreID                     int64\n",
       "FromDiversityJobFairID          int64\n",
       "Salary                          int64\n",
       "Termd                           int64\n",
       "PositionID                      int64\n",
       "Position                       object\n",
       "State                          object\n",
       "Zip                             int64\n",
       "DOB                            object\n",
       "Sex                            object\n",
       "MaritalDesc                    object\n",
       "CitizenDesc                    object\n",
       "HispanicLatino                 object\n",
       "RaceDesc                       object\n",
       "DateofHire                     object\n",
       "DateofTermination              object\n",
       "TermReason                     object\n",
       "EmploymentStatus               object\n",
       "Department                     object\n",
       "ManagerName                    object\n",
       "ManagerID                     float64\n",
       "RecruitmentSource              object\n",
       "PerformanceScore               object\n",
       "EngagementSurvey              float64\n",
       "EmpSatisfaction                 int64\n",
       "SpecialProjectsCount            int64\n",
       "LastPerformanceReview_Date     object\n",
       "DaysLateLast30                  int64\n",
       "Absences                        int64\n",
       "dtype: object"
      ]
     },
     "execution_count": 4,
     "metadata": {},
     "output_type": "execute_result"
    }
   ],
   "source": [
    "df.dtypes"
   ]
  },
  {
   "cell_type": "markdown",
   "id": "fda01748",
   "metadata": {
    "papermill": {
     "duration": 0.006416,
     "end_time": "2023-02-17T18:04:19.707968",
     "exception": false,
     "start_time": "2023-02-17T18:04:19.701552",
     "status": "completed"
    },
    "tags": []
   },
   "source": [
    "### Verificando dados faltantes (missing)\n",
    "\n",
    "Os dados faltantes (missing) da coluna \"DateofTermination\" acontece pelo simples fato do funcionário continuar empregado na empresa.<br>\n",
    "Esse dataset está bem limpo."
   ]
  },
  {
   "cell_type": "code",
   "execution_count": 5,
   "id": "c785b7ad",
   "metadata": {
    "execution": {
     "iopub.execute_input": "2023-02-17T18:04:19.723983Z",
     "iopub.status.busy": "2023-02-17T18:04:19.722875Z",
     "iopub.status.idle": "2023-02-17T18:04:19.733669Z",
     "shell.execute_reply": "2023-02-17T18:04:19.732503Z"
    },
    "papermill": {
     "duration": 0.02167,
     "end_time": "2023-02-17T18:04:19.736335",
     "exception": false,
     "start_time": "2023-02-17T18:04:19.714665",
     "status": "completed"
    },
    "tags": []
   },
   "outputs": [
    {
     "data": {
      "text/plain": [
       "Employee_Name                   0\n",
       "EmpID                           0\n",
       "MarriedID                       0\n",
       "MaritalStatusID                 0\n",
       "GenderID                        0\n",
       "EmpStatusID                     0\n",
       "DeptID                          0\n",
       "PerfScoreID                     0\n",
       "FromDiversityJobFairID          0\n",
       "Salary                          0\n",
       "Termd                           0\n",
       "PositionID                      0\n",
       "Position                        0\n",
       "State                           0\n",
       "Zip                             0\n",
       "DOB                             0\n",
       "Sex                             0\n",
       "MaritalDesc                     0\n",
       "CitizenDesc                     0\n",
       "HispanicLatino                  0\n",
       "RaceDesc                        0\n",
       "DateofHire                      0\n",
       "DateofTermination             207\n",
       "TermReason                      0\n",
       "EmploymentStatus                0\n",
       "Department                      0\n",
       "ManagerName                     0\n",
       "ManagerID                       8\n",
       "RecruitmentSource               0\n",
       "PerformanceScore                0\n",
       "EngagementSurvey                0\n",
       "EmpSatisfaction                 0\n",
       "SpecialProjectsCount            0\n",
       "LastPerformanceReview_Date      0\n",
       "DaysLateLast30                  0\n",
       "Absences                        0\n",
       "dtype: int64"
      ]
     },
     "execution_count": 5,
     "metadata": {},
     "output_type": "execute_result"
    }
   ],
   "source": [
    "df.isnull().sum()"
   ]
  },
  {
   "cell_type": "markdown",
   "id": "9179943b",
   "metadata": {
    "papermill": {
     "duration": 0.00676,
     "end_time": "2023-02-17T18:04:19.750116",
     "exception": false,
     "start_time": "2023-02-17T18:04:19.743356",
     "status": "completed"
    },
    "tags": []
   },
   "source": [
    "# Seleção de Variáveis\n",
    "\n",
    "Após analisar todas as variáveis, decidi manter as que fazem mais sentido para o negócio e predição.<br>\n",
    "Variáveis categóricas como \"anotações, nomes de pessoas\" e variáveis numéricas como \"IDs\" não são relevantes nesse momento. <br>\n",
    "Variáveis como sexo, preferência sexual, raça, cor, cidadania não serão levados em consideração."
   ]
  },
  {
   "cell_type": "code",
   "execution_count": 6,
   "id": "6282f4d0",
   "metadata": {
    "execution": {
     "iopub.execute_input": "2023-02-17T18:04:19.766786Z",
     "iopub.status.busy": "2023-02-17T18:04:19.766280Z",
     "iopub.status.idle": "2023-02-17T18:04:19.780142Z",
     "shell.execute_reply": "2023-02-17T18:04:19.778943Z"
    },
    "papermill": {
     "duration": 0.024535,
     "end_time": "2023-02-17T18:04:19.782352",
     "exception": false,
     "start_time": "2023-02-17T18:04:19.757817",
     "status": "completed"
    },
    "tags": []
   },
   "outputs": [
    {
     "data": {
      "text/plain": [
       "array(['Production Technician I', 'Sr. DBA', 'Production Technician II',\n",
       "       'Software Engineer', 'IT Support', 'Data Analyst',\n",
       "       'Database Administrator', 'Enterprise Architect', 'Sr. Accountant',\n",
       "       'Production Manager', 'Accountant I', 'Area Sales Manager',\n",
       "       'Software Engineering Manager', 'BI Director',\n",
       "       'Director of Operations', 'Sr. Network Engineer', 'Sales Manager',\n",
       "       'BI Developer', 'IT Manager - Support', 'Network Engineer',\n",
       "       'IT Director', 'Director of Sales', 'Administrative Assistant',\n",
       "       'President & CEO', 'Senior BI Developer',\n",
       "       'Shared Services Manager', 'IT Manager - Infra',\n",
       "       'Principal Data Architect', 'Data Architect', 'IT Manager - DB',\n",
       "       'Data Analyst ', 'CIO'], dtype=object)"
      ]
     },
     "execution_count": 6,
     "metadata": {},
     "output_type": "execute_result"
    }
   ],
   "source": [
    "df['Position'].unique()"
   ]
  },
  {
   "cell_type": "code",
   "execution_count": 7,
   "id": "068aec9f",
   "metadata": {
    "execution": {
     "iopub.execute_input": "2023-02-17T18:04:19.799218Z",
     "iopub.status.busy": "2023-02-17T18:04:19.798355Z",
     "iopub.status.idle": "2023-02-17T18:04:19.805705Z",
     "shell.execute_reply": "2023-02-17T18:04:19.804480Z"
    },
    "papermill": {
     "duration": 0.018657,
     "end_time": "2023-02-17T18:04:19.808112",
     "exception": false,
     "start_time": "2023-02-17T18:04:19.789455",
     "status": "completed"
    },
    "tags": []
   },
   "outputs": [
    {
     "data": {
      "text/plain": [
       "array(['Exceeds', 'Fully Meets', 'Needs Improvement', 'PIP'], dtype=object)"
      ]
     },
     "execution_count": 7,
     "metadata": {},
     "output_type": "execute_result"
    }
   ],
   "source": [
    "df['PerformanceScore'].unique()"
   ]
  },
  {
   "cell_type": "code",
   "execution_count": 8,
   "id": "4e21608c",
   "metadata": {
    "execution": {
     "iopub.execute_input": "2023-02-17T18:04:19.826414Z",
     "iopub.status.busy": "2023-02-17T18:04:19.825192Z",
     "iopub.status.idle": "2023-02-17T18:04:19.833341Z",
     "shell.execute_reply": "2023-02-17T18:04:19.832241Z"
    },
    "papermill": {
     "duration": 0.020705,
     "end_time": "2023-02-17T18:04:19.836140",
     "exception": false,
     "start_time": "2023-02-17T18:04:19.815435",
     "status": "completed"
    },
    "tags": []
   },
   "outputs": [
    {
     "data": {
      "text/plain": [
       "array(['Production       ', 'IT/IS', 'Software Engineering',\n",
       "       'Admin Offices', 'Sales', 'Executive Office'], dtype=object)"
      ]
     },
     "execution_count": 8,
     "metadata": {},
     "output_type": "execute_result"
    }
   ],
   "source": [
    "df['Department'].unique()"
   ]
  },
  {
   "cell_type": "code",
   "execution_count": 9,
   "id": "ca67e198",
   "metadata": {
    "execution": {
     "iopub.execute_input": "2023-02-17T18:04:19.855881Z",
     "iopub.status.busy": "2023-02-17T18:04:19.855086Z",
     "iopub.status.idle": "2023-02-17T18:04:19.862423Z",
     "shell.execute_reply": "2023-02-17T18:04:19.861454Z"
    },
    "papermill": {
     "duration": 0.019775,
     "end_time": "2023-02-17T18:04:19.864963",
     "exception": false,
     "start_time": "2023-02-17T18:04:19.845188",
     "status": "completed"
    },
    "tags": []
   },
   "outputs": [
    {
     "data": {
      "text/plain": [
       "array([22.,  4., 20., 16., 39., 11., 10., 19., 12.,  7., 14., 18., nan,\n",
       "        3.,  2.,  1., 17.,  5., 21.,  6., 15., 13.,  9., 30.])"
      ]
     },
     "execution_count": 9,
     "metadata": {},
     "output_type": "execute_result"
    }
   ],
   "source": [
    "df['ManagerID'].unique()"
   ]
  },
  {
   "cell_type": "markdown",
   "id": "d0899f23",
   "metadata": {
    "papermill": {
     "duration": 0.008302,
     "end_time": "2023-02-17T18:04:19.881345",
     "exception": false,
     "start_time": "2023-02-17T18:04:19.873043",
     "status": "completed"
    },
    "tags": []
   },
   "source": [
    "Criando um dataset final/limpo."
   ]
  },
  {
   "cell_type": "code",
   "execution_count": 10,
   "id": "b37ec3ff",
   "metadata": {
    "execution": {
     "iopub.execute_input": "2023-02-17T18:04:19.899109Z",
     "iopub.status.busy": "2023-02-17T18:04:19.898341Z",
     "iopub.status.idle": "2023-02-17T18:04:19.921398Z",
     "shell.execute_reply": "2023-02-17T18:04:19.919961Z"
    },
    "papermill": {
     "duration": 0.035048,
     "end_time": "2023-02-17T18:04:19.924106",
     "exception": false,
     "start_time": "2023-02-17T18:04:19.889058",
     "status": "completed"
    },
    "tags": []
   },
   "outputs": [
    {
     "data": {
      "text/html": [
       "<div>\n",
       "<style scoped>\n",
       "    .dataframe tbody tr th:only-of-type {\n",
       "        vertical-align: middle;\n",
       "    }\n",
       "\n",
       "    .dataframe tbody tr th {\n",
       "        vertical-align: top;\n",
       "    }\n",
       "\n",
       "    .dataframe thead th {\n",
       "        text-align: right;\n",
       "    }\n",
       "</style>\n",
       "<table border=\"1\" class=\"dataframe\">\n",
       "  <thead>\n",
       "    <tr style=\"text-align: right;\">\n",
       "      <th></th>\n",
       "      <th>EmpStatusID</th>\n",
       "      <th>DeptID</th>\n",
       "      <th>PerfScoreID</th>\n",
       "      <th>FromDiversityJobFairID</th>\n",
       "      <th>Salary</th>\n",
       "      <th>Termd</th>\n",
       "      <th>PositionID</th>\n",
       "      <th>Department</th>\n",
       "      <th>ManagerID</th>\n",
       "      <th>PerformanceScore</th>\n",
       "      <th>EmpSatisfaction</th>\n",
       "      <th>SpecialProjectsCount</th>\n",
       "      <th>Absences</th>\n",
       "    </tr>\n",
       "  </thead>\n",
       "  <tbody>\n",
       "    <tr>\n",
       "      <th>0</th>\n",
       "      <td>1</td>\n",
       "      <td>5</td>\n",
       "      <td>4</td>\n",
       "      <td>0</td>\n",
       "      <td>62506</td>\n",
       "      <td>0</td>\n",
       "      <td>19</td>\n",
       "      <td>Production</td>\n",
       "      <td>22.0</td>\n",
       "      <td>Exceeds</td>\n",
       "      <td>5</td>\n",
       "      <td>0</td>\n",
       "      <td>1</td>\n",
       "    </tr>\n",
       "    <tr>\n",
       "      <th>1</th>\n",
       "      <td>5</td>\n",
       "      <td>3</td>\n",
       "      <td>3</td>\n",
       "      <td>0</td>\n",
       "      <td>104437</td>\n",
       "      <td>1</td>\n",
       "      <td>27</td>\n",
       "      <td>IT/IS</td>\n",
       "      <td>4.0</td>\n",
       "      <td>Fully Meets</td>\n",
       "      <td>3</td>\n",
       "      <td>6</td>\n",
       "      <td>17</td>\n",
       "    </tr>\n",
       "    <tr>\n",
       "      <th>2</th>\n",
       "      <td>5</td>\n",
       "      <td>5</td>\n",
       "      <td>3</td>\n",
       "      <td>0</td>\n",
       "      <td>64955</td>\n",
       "      <td>1</td>\n",
       "      <td>20</td>\n",
       "      <td>Production</td>\n",
       "      <td>20.0</td>\n",
       "      <td>Fully Meets</td>\n",
       "      <td>3</td>\n",
       "      <td>0</td>\n",
       "      <td>3</td>\n",
       "    </tr>\n",
       "    <tr>\n",
       "      <th>3</th>\n",
       "      <td>1</td>\n",
       "      <td>5</td>\n",
       "      <td>3</td>\n",
       "      <td>0</td>\n",
       "      <td>64991</td>\n",
       "      <td>0</td>\n",
       "      <td>19</td>\n",
       "      <td>Production</td>\n",
       "      <td>16.0</td>\n",
       "      <td>Fully Meets</td>\n",
       "      <td>5</td>\n",
       "      <td>0</td>\n",
       "      <td>15</td>\n",
       "    </tr>\n",
       "    <tr>\n",
       "      <th>4</th>\n",
       "      <td>5</td>\n",
       "      <td>5</td>\n",
       "      <td>3</td>\n",
       "      <td>0</td>\n",
       "      <td>50825</td>\n",
       "      <td>1</td>\n",
       "      <td>19</td>\n",
       "      <td>Production</td>\n",
       "      <td>39.0</td>\n",
       "      <td>Fully Meets</td>\n",
       "      <td>4</td>\n",
       "      <td>0</td>\n",
       "      <td>2</td>\n",
       "    </tr>\n",
       "  </tbody>\n",
       "</table>\n",
       "</div>"
      ],
      "text/plain": [
       "   EmpStatusID  DeptID  PerfScoreID  FromDiversityJobFairID  Salary  Termd  \\\n",
       "0            1       5            4                       0   62506      0   \n",
       "1            5       3            3                       0  104437      1   \n",
       "2            5       5            3                       0   64955      1   \n",
       "3            1       5            3                       0   64991      0   \n",
       "4            5       5            3                       0   50825      1   \n",
       "\n",
       "   PositionID         Department  ManagerID PerformanceScore  EmpSatisfaction  \\\n",
       "0          19  Production              22.0          Exceeds                5   \n",
       "1          27              IT/IS        4.0      Fully Meets                3   \n",
       "2          20  Production              20.0      Fully Meets                3   \n",
       "3          19  Production              16.0      Fully Meets                5   \n",
       "4          19  Production              39.0      Fully Meets                4   \n",
       "\n",
       "   SpecialProjectsCount  Absences  \n",
       "0                     0         1  \n",
       "1                     6        17  \n",
       "2                     0         3  \n",
       "3                     0        15  \n",
       "4                     0         2  "
      ]
     },
     "execution_count": 10,
     "metadata": {},
     "output_type": "execute_result"
    }
   ],
   "source": [
    "df_limpa = df.drop(['Employee_Name',\n",
    "                    'Sex',\n",
    "                    'GenderID',\n",
    "                    'MarriedID',\n",
    "                    'MaritalStatusID',\n",
    "                    'MaritalDesc',\n",
    "                    'EmpID',\n",
    "                    'Position',\n",
    "                    'State',\n",
    "                    'DOB',\n",
    "                    'Zip',\n",
    "                    'CitizenDesc',\n",
    "                    'HispanicLatino',\n",
    "                    'RaceDesc',\n",
    "                    'DateofHire',\n",
    "                    'DateofTermination',\n",
    "                    'TermReason',\n",
    "                    'EmploymentStatus',\n",
    "                    'ManagerName',\n",
    "                    'RecruitmentSource',\n",
    "                    'EngagementSurvey',\n",
    "                    'LastPerformanceReview_Date',\n",
    "                    'DaysLateLast30'], axis=1).copy()\n",
    "df_limpa.head()"
   ]
  },
  {
   "cell_type": "markdown",
   "id": "fdd2458e",
   "metadata": {
    "papermill": {
     "duration": 0.007621,
     "end_time": "2023-02-17T18:04:19.940100",
     "exception": false,
     "start_time": "2023-02-17T18:04:19.932479",
     "status": "completed"
    },
    "tags": []
   },
   "source": [
    "# Categorizando a variável Salary\n",
    "\n",
    "Essa variável possui muitos valores distintos, desta forma decidi distribuir em 3 grupos (baixo, médio e alto) para depois criar as variáveis dummies."
   ]
  },
  {
   "cell_type": "code",
   "execution_count": 11,
   "id": "772fd872",
   "metadata": {
    "execution": {
     "iopub.execute_input": "2023-02-17T18:04:19.958459Z",
     "iopub.status.busy": "2023-02-17T18:04:19.958046Z",
     "iopub.status.idle": "2023-02-17T18:04:19.965652Z",
     "shell.execute_reply": "2023-02-17T18:04:19.964391Z"
    },
    "papermill": {
     "duration": 0.020627,
     "end_time": "2023-02-17T18:04:19.969309",
     "exception": false,
     "start_time": "2023-02-17T18:04:19.948682",
     "status": "completed"
    },
    "tags": []
   },
   "outputs": [
    {
     "name": "stdout",
     "output_type": "stream",
     "text": [
      "45046\n",
      "250000\n",
      "[45046, 45069, 45115, 45395, 45433, 45998, 46120, 46335, 46428, 46430, 46654, 46664, 46738, 46799, 46837, 46998, 47001, 47211, 47414, 47434, 47750, 47837, 47961, 48285, 48413, 48495, 48513, 48888, 49256, 49773, 49920, 50178, 50274, 50373, 50428, 50470, 50482, 50750, 50825, 50923, 51044, 51259, 51337, 51505, 51777, 51908, 51920, 52057, 52087, 52177, 52249, 52505, 52599, 52624, 52674, 52788, 52846, 52984, 53018, 53060, 53171, 53180, 53189, 53250, 53366, 53492, 53564, 54005, 54132, 54237, 54285, 54670, 54828, 54933, 55000, 55140, 55315, 55425, 55578, 55688, 55722, 55800, 55875, 55965, 56147, 56149, 56294, 56339, 56847, 56991, 57568, 57575, 57583, 57748, 57815, 57815, 57834, 57859, 57954, 57975, 58062, 58207, 58273, 58275, 58370, 58371, 58523, 58530, 58709, 58939, 59026, 59124, 59144, 59231, 59238, 59365, 59369, 59370, 59472, 59728, 59892, 60070, 60120, 60270, 60340, 60380, 60436, 60446, 60627, 60656, 60724, 60754, 61154, 61242, 61242, 61349, 61355, 61422, 61555, 61568, 61584, 61656, 61729, 61809, 61844, 61962, 62061, 62065, 62068, 62162, 62385, 62425, 62506, 62514, 62659, 62810, 62910, 62957, 63000, 63003, 63025, 63025, 63051, 63108, 63291, 63322, 63353, 63381, 63430, 63450, 63478, 63515, 63676, 63682, 63695, 63763, 63813, 63878, 63973, 64021, 64057, 64066, 64246, 64375, 64397, 64520, 64724, 64738, 64786, 64816, 64919, 64955, 64971, 64991, 64995, 65288, 65310, 65707, 65714, 65729, 65893, 65902, 66074, 66149, 66441, 66541, 66593, 66738, 66808, 66825, 67176, 67237, 67251, 68051, 68099, 68182, 68407, 68678, 68829, 68898, 68999, 69340, 70131, 70187, 70468, 70507, 70545, 70621, 71339, 71707, 71776, 71860, 71966, 72106, 72202, 72460, 72609, 72640, 72992, 73330, 74226, 74241, 74312, 74326, 74417, 74669, 74679, 74813, 75188, 75281, 76029, 77692, 77915, 80512, 81584, 82758, 83082, 83363, 83552, 83667, 84903, 85028, 86214, 87565, 87826, 87921, 88527, 88976, 89292, 89883, 90100, 92328, 92329, 92989, 93046, 93093, 93206, 93396, 93554, 95660, 95920, 96820, 97999, 99020, 99280, 99351, 100031, 100416, 101199, 103613, 104437, 105688, 105700, 106367, 107226, 108987, 110000, 110929, 113999, 114800, 120000, 138888, 140920, 148999, 150290, 157000, 170500, 178000, 180000, 220450, 250000]\n"
     ]
    }
   ],
   "source": [
    "print(df_limpa['Salary'].min())\n",
    "print(df_limpa['Salary'].max())\n",
    "print(df_limpa['Salary'].sort_values(ascending=True).tolist())"
   ]
  },
  {
   "cell_type": "code",
   "execution_count": 12,
   "id": "d1d8428a",
   "metadata": {
    "execution": {
     "iopub.execute_input": "2023-02-17T18:04:19.986596Z",
     "iopub.status.busy": "2023-02-17T18:04:19.986197Z",
     "iopub.status.idle": "2023-02-17T18:04:19.996407Z",
     "shell.execute_reply": "2023-02-17T18:04:19.995100Z"
    },
    "papermill": {
     "duration": 0.021519,
     "end_time": "2023-02-17T18:04:19.998860",
     "exception": false,
     "start_time": "2023-02-17T18:04:19.977341",
     "status": "completed"
    },
    "tags": []
   },
   "outputs": [],
   "source": [
    "df_limpa['SalaryGroup'] = pd.cut(df_limpa['Salary'], bins=[45000, 70000, 110000, sys.maxsize], labels=['baixo', 'medio', 'alto'])"
   ]
  },
  {
   "cell_type": "markdown",
   "id": "b64cdac6",
   "metadata": {
    "papermill": {
     "duration": 0.007859,
     "end_time": "2023-02-17T18:04:20.014489",
     "exception": false,
     "start_time": "2023-02-17T18:04:20.006630",
     "status": "completed"
    },
    "tags": []
   },
   "source": [
    "# Criando as dummies para variáveis categóricas\n",
    "\n",
    "Após a limpeza do dataset, ficamos com duas variáveis categóricas, para serem utilizadas é necessário transformar em dummies."
   ]
  },
  {
   "cell_type": "code",
   "execution_count": 13,
   "id": "908365d8",
   "metadata": {
    "execution": {
     "iopub.execute_input": "2023-02-17T18:04:20.032341Z",
     "iopub.status.busy": "2023-02-17T18:04:20.031939Z",
     "iopub.status.idle": "2023-02-17T18:04:20.052049Z",
     "shell.execute_reply": "2023-02-17T18:04:20.050746Z"
    },
    "papermill": {
     "duration": 0.032475,
     "end_time": "2023-02-17T18:04:20.054745",
     "exception": false,
     "start_time": "2023-02-17T18:04:20.022270",
     "status": "completed"
    },
    "tags": []
   },
   "outputs": [
    {
     "data": {
      "text/plain": [
       "array(['EmpStatusID', 'DeptID', 'PerfScoreID', 'FromDiversityJobFairID',\n",
       "       'Salary', 'Termd', 'PositionID', 'Department', 'ManagerID',\n",
       "       'PerformanceScore', 'EmpSatisfaction', 'SpecialProjectsCount',\n",
       "       'Absences', 'SalaryGroup', 'SalaryGroup_baixo',\n",
       "       'SalaryGroup_medio', 'SalaryGroup_alto',\n",
       "       'Department_Admin Offices', 'Department_Executive Office',\n",
       "       'Department_IT/IS', 'Department_Production       ',\n",
       "       'Department_Sales', 'Department_Software Engineering',\n",
       "       'PerformanceScore_Exceeds', 'PerformanceScore_Fully Meets',\n",
       "       'PerformanceScore_Needs Improvement', 'PerformanceScore_PIP'],\n",
       "      dtype=object)"
      ]
     },
     "execution_count": 13,
     "metadata": {},
     "output_type": "execute_result"
    }
   ],
   "source": [
    "variaveis_categoricas = ['SalaryGroup', 'Department', 'PerformanceScore']\n",
    "for variavel_categoria in variaveis_categoricas:\n",
    "    categoria_lista = 'variavel_categoria'+'_'+variavel_categoria\n",
    "    categoria_lista = pd.get_dummies(df_limpa[variavel_categoria], prefix=variavel_categoria)\n",
    "    df_limpa = df_limpa.join(categoria_lista)\n",
    "    dfdf_limpa = df_limpa\n",
    "df_limpa.columns.values"
   ]
  },
  {
   "cell_type": "markdown",
   "id": "db7f729b",
   "metadata": {
    "papermill": {
     "duration": 0.007441,
     "end_time": "2023-02-17T18:04:20.070064",
     "exception": false,
     "start_time": "2023-02-17T18:04:20.062623",
     "status": "completed"
    },
    "tags": []
   },
   "source": [
    "Após a criação das variáveis dummies, as variáveis originais devem ser eliminadas do dataset."
   ]
  },
  {
   "cell_type": "code",
   "execution_count": 14,
   "id": "bc830fa3",
   "metadata": {
    "execution": {
     "iopub.execute_input": "2023-02-17T18:04:20.087370Z",
     "iopub.status.busy": "2023-02-17T18:04:20.086960Z",
     "iopub.status.idle": "2023-02-17T18:04:20.108498Z",
     "shell.execute_reply": "2023-02-17T18:04:20.107561Z"
    },
    "papermill": {
     "duration": 0.032972,
     "end_time": "2023-02-17T18:04:20.110876",
     "exception": false,
     "start_time": "2023-02-17T18:04:20.077904",
     "status": "completed"
    },
    "tags": []
   },
   "outputs": [
    {
     "data": {
      "text/html": [
       "<div>\n",
       "<style scoped>\n",
       "    .dataframe tbody tr th:only-of-type {\n",
       "        vertical-align: middle;\n",
       "    }\n",
       "\n",
       "    .dataframe tbody tr th {\n",
       "        vertical-align: top;\n",
       "    }\n",
       "\n",
       "    .dataframe thead th {\n",
       "        text-align: right;\n",
       "    }\n",
       "</style>\n",
       "<table border=\"1\" class=\"dataframe\">\n",
       "  <thead>\n",
       "    <tr style=\"text-align: right;\">\n",
       "      <th></th>\n",
       "      <th>EmpStatusID</th>\n",
       "      <th>DeptID</th>\n",
       "      <th>PerfScoreID</th>\n",
       "      <th>FromDiversityJobFairID</th>\n",
       "      <th>Termd</th>\n",
       "      <th>PositionID</th>\n",
       "      <th>ManagerID</th>\n",
       "      <th>EmpSatisfaction</th>\n",
       "      <th>SpecialProjectsCount</th>\n",
       "      <th>Absences</th>\n",
       "      <th>SalaryGroup_baixo</th>\n",
       "      <th>SalaryGroup_medio</th>\n",
       "      <th>SalaryGroup_alto</th>\n",
       "      <th>Department_Admin Offices</th>\n",
       "      <th>Department_Executive Office</th>\n",
       "      <th>Department_IT/IS</th>\n",
       "      <th>Department_Production</th>\n",
       "      <th>Department_Sales</th>\n",
       "      <th>Department_Software Engineering</th>\n",
       "      <th>PerformanceScore_Exceeds</th>\n",
       "      <th>PerformanceScore_Fully Meets</th>\n",
       "      <th>PerformanceScore_Needs Improvement</th>\n",
       "      <th>PerformanceScore_PIP</th>\n",
       "    </tr>\n",
       "  </thead>\n",
       "  <tbody>\n",
       "    <tr>\n",
       "      <th>0</th>\n",
       "      <td>1</td>\n",
       "      <td>5</td>\n",
       "      <td>4</td>\n",
       "      <td>0</td>\n",
       "      <td>0</td>\n",
       "      <td>19</td>\n",
       "      <td>22.0</td>\n",
       "      <td>5</td>\n",
       "      <td>0</td>\n",
       "      <td>1</td>\n",
       "      <td>1</td>\n",
       "      <td>0</td>\n",
       "      <td>0</td>\n",
       "      <td>0</td>\n",
       "      <td>0</td>\n",
       "      <td>0</td>\n",
       "      <td>1</td>\n",
       "      <td>0</td>\n",
       "      <td>0</td>\n",
       "      <td>1</td>\n",
       "      <td>0</td>\n",
       "      <td>0</td>\n",
       "      <td>0</td>\n",
       "    </tr>\n",
       "    <tr>\n",
       "      <th>1</th>\n",
       "      <td>5</td>\n",
       "      <td>3</td>\n",
       "      <td>3</td>\n",
       "      <td>0</td>\n",
       "      <td>1</td>\n",
       "      <td>27</td>\n",
       "      <td>4.0</td>\n",
       "      <td>3</td>\n",
       "      <td>6</td>\n",
       "      <td>17</td>\n",
       "      <td>0</td>\n",
       "      <td>1</td>\n",
       "      <td>0</td>\n",
       "      <td>0</td>\n",
       "      <td>0</td>\n",
       "      <td>1</td>\n",
       "      <td>0</td>\n",
       "      <td>0</td>\n",
       "      <td>0</td>\n",
       "      <td>0</td>\n",
       "      <td>1</td>\n",
       "      <td>0</td>\n",
       "      <td>0</td>\n",
       "    </tr>\n",
       "    <tr>\n",
       "      <th>2</th>\n",
       "      <td>5</td>\n",
       "      <td>5</td>\n",
       "      <td>3</td>\n",
       "      <td>0</td>\n",
       "      <td>1</td>\n",
       "      <td>20</td>\n",
       "      <td>20.0</td>\n",
       "      <td>3</td>\n",
       "      <td>0</td>\n",
       "      <td>3</td>\n",
       "      <td>1</td>\n",
       "      <td>0</td>\n",
       "      <td>0</td>\n",
       "      <td>0</td>\n",
       "      <td>0</td>\n",
       "      <td>0</td>\n",
       "      <td>1</td>\n",
       "      <td>0</td>\n",
       "      <td>0</td>\n",
       "      <td>0</td>\n",
       "      <td>1</td>\n",
       "      <td>0</td>\n",
       "      <td>0</td>\n",
       "    </tr>\n",
       "    <tr>\n",
       "      <th>3</th>\n",
       "      <td>1</td>\n",
       "      <td>5</td>\n",
       "      <td>3</td>\n",
       "      <td>0</td>\n",
       "      <td>0</td>\n",
       "      <td>19</td>\n",
       "      <td>16.0</td>\n",
       "      <td>5</td>\n",
       "      <td>0</td>\n",
       "      <td>15</td>\n",
       "      <td>1</td>\n",
       "      <td>0</td>\n",
       "      <td>0</td>\n",
       "      <td>0</td>\n",
       "      <td>0</td>\n",
       "      <td>0</td>\n",
       "      <td>1</td>\n",
       "      <td>0</td>\n",
       "      <td>0</td>\n",
       "      <td>0</td>\n",
       "      <td>1</td>\n",
       "      <td>0</td>\n",
       "      <td>0</td>\n",
       "    </tr>\n",
       "    <tr>\n",
       "      <th>4</th>\n",
       "      <td>5</td>\n",
       "      <td>5</td>\n",
       "      <td>3</td>\n",
       "      <td>0</td>\n",
       "      <td>1</td>\n",
       "      <td>19</td>\n",
       "      <td>39.0</td>\n",
       "      <td>4</td>\n",
       "      <td>0</td>\n",
       "      <td>2</td>\n",
       "      <td>1</td>\n",
       "      <td>0</td>\n",
       "      <td>0</td>\n",
       "      <td>0</td>\n",
       "      <td>0</td>\n",
       "      <td>0</td>\n",
       "      <td>1</td>\n",
       "      <td>0</td>\n",
       "      <td>0</td>\n",
       "      <td>0</td>\n",
       "      <td>1</td>\n",
       "      <td>0</td>\n",
       "      <td>0</td>\n",
       "    </tr>\n",
       "  </tbody>\n",
       "</table>\n",
       "</div>"
      ],
      "text/plain": [
       "   EmpStatusID  DeptID  PerfScoreID  FromDiversityJobFairID  Termd  \\\n",
       "0            1       5            4                       0      0   \n",
       "1            5       3            3                       0      1   \n",
       "2            5       5            3                       0      1   \n",
       "3            1       5            3                       0      0   \n",
       "4            5       5            3                       0      1   \n",
       "\n",
       "   PositionID  ManagerID  EmpSatisfaction  SpecialProjectsCount  Absences  \\\n",
       "0          19       22.0                5                     0         1   \n",
       "1          27        4.0                3                     6        17   \n",
       "2          20       20.0                3                     0         3   \n",
       "3          19       16.0                5                     0        15   \n",
       "4          19       39.0                4                     0         2   \n",
       "\n",
       "   SalaryGroup_baixo  SalaryGroup_medio  SalaryGroup_alto  \\\n",
       "0                  1                  0                 0   \n",
       "1                  0                  1                 0   \n",
       "2                  1                  0                 0   \n",
       "3                  1                  0                 0   \n",
       "4                  1                  0                 0   \n",
       "\n",
       "   Department_Admin Offices  Department_Executive Office  Department_IT/IS  \\\n",
       "0                         0                            0                 0   \n",
       "1                         0                            0                 1   \n",
       "2                         0                            0                 0   \n",
       "3                         0                            0                 0   \n",
       "4                         0                            0                 0   \n",
       "\n",
       "   Department_Production         Department_Sales  \\\n",
       "0                             1                 0   \n",
       "1                             0                 0   \n",
       "2                             1                 0   \n",
       "3                             1                 0   \n",
       "4                             1                 0   \n",
       "\n",
       "   Department_Software Engineering  PerformanceScore_Exceeds  \\\n",
       "0                                0                         1   \n",
       "1                                0                         0   \n",
       "2                                0                         0   \n",
       "3                                0                         0   \n",
       "4                                0                         0   \n",
       "\n",
       "   PerformanceScore_Fully Meets  PerformanceScore_Needs Improvement  \\\n",
       "0                             0                                   0   \n",
       "1                             1                                   0   \n",
       "2                             1                                   0   \n",
       "3                             1                                   0   \n",
       "4                             1                                   0   \n",
       "\n",
       "   PerformanceScore_PIP  \n",
       "0                     0  \n",
       "1                     0  \n",
       "2                     0  \n",
       "3                     0  \n",
       "4                     0  "
      ]
     },
     "execution_count": 14,
     "metadata": {},
     "output_type": "execute_result"
    }
   ],
   "source": [
    "df_limpa = df_limpa.drop(['Salary', 'SalaryGroup', 'Department', 'PerformanceScore'], axis=1).copy()\n",
    "df_limpa.head()"
   ]
  },
  {
   "cell_type": "markdown",
   "id": "345da9d6",
   "metadata": {
    "papermill": {
     "duration": 0.008135,
     "end_time": "2023-02-17T18:04:20.127355",
     "exception": false,
     "start_time": "2023-02-17T18:04:20.119220",
     "status": "completed"
    },
    "tags": []
   },
   "source": [
    "# Variável target e separação em X e y\n",
    "\n",
    "A variável \"Termd\" será a variável target, as demais variáveis serão as respostas (irão predizer)."
   ]
  },
  {
   "cell_type": "code",
   "execution_count": 15,
   "id": "c1e49689",
   "metadata": {
    "execution": {
     "iopub.execute_input": "2023-02-17T18:04:20.146362Z",
     "iopub.status.busy": "2023-02-17T18:04:20.145517Z",
     "iopub.status.idle": "2023-02-17T18:04:20.151782Z",
     "shell.execute_reply": "2023-02-17T18:04:20.150502Z"
    },
    "papermill": {
     "duration": 0.018637,
     "end_time": "2023-02-17T18:04:20.154442",
     "exception": false,
     "start_time": "2023-02-17T18:04:20.135805",
     "status": "completed"
    },
    "tags": []
   },
   "outputs": [],
   "source": [
    "df_limpa_vars = df_limpa.columns.values.tolist()\n",
    "y = ['Termd']\n",
    "X = [i for i in df_limpa_vars if i not in y]"
   ]
  }
 ],
 "metadata": {
  "kernelspec": {
   "display_name": "Python 3",
   "language": "python",
   "name": "python3"
  },
  "language_info": {
   "codemirror_mode": {
    "name": "ipython",
    "version": 3
   },
   "file_extension": ".py",
   "mimetype": "text/x-python",
   "name": "python",
   "nbconvert_exporter": "python",
   "pygments_lexer": "ipython3",
   "version": "3.7.12"
  },
  "papermill": {
   "default_parameters": {},
   "duration": 10.665114,
   "end_time": "2023-02-17T18:04:20.885358",
   "environment_variables": {},
   "exception": null,
   "input_path": "__notebook__.ipynb",
   "output_path": "__notebook__.ipynb",
   "parameters": {},
   "start_time": "2023-02-17T18:04:10.220244",
   "version": "2.3.4"
  }
 },
 "nbformat": 4,
 "nbformat_minor": 5
}
